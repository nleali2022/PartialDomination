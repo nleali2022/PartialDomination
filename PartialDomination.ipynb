{
 "cells": [
  {
   "cell_type": "markdown",
   "id": "a65c7419-435d-4cd2-9441-c59a2eb91ae4",
   "metadata": {},
   "source": [
    "# Partial Domination"
   ]
  },
  {
   "cell_type": "code",
   "execution_count": 3,
   "id": "bed8bbda-b335-472a-b9da-5ac9036941b8",
   "metadata": {},
   "outputs": [],
   "source": [
    "# imports\n",
    "\n",
    "from sage.graphs.graph import Graph # display graphs\n",
    "\n",
    "from itertools import permutations # get permutations\n",
    "from itertools import combinations # get power set\n",
    "\n",
    "from sage.graphs.trees import TreeIterator # create trees iteratively\n",
    "\n",
    "import math # for factorial function\n",
    "\n",
    "import pandas as pd # data analysis"
   ]
  },
  {
   "cell_type": "code",
   "execution_count": 4,
   "id": "45e33db9-3e20-486b-bb03-32f032197b25",
   "metadata": {},
   "outputs": [],
   "source": [
    "# fraction of graph we expect to dominate\n",
    "\n",
    "partial_domination_fraction = 1/3\n",
    "partial_domination_fraction2 = 2/3"
   ]
  },
  {
   "cell_type": "markdown",
   "id": "603a1ece-1c01-4796-becb-7366cf8882b7",
   "metadata": {},
   "source": [
    "## Helper Functions"
   ]
  },
  {
   "cell_type": "code",
   "execution_count": 5,
   "id": "ec156a6a-3eef-40c6-8a7c-9d3524c2c2f4",
   "metadata": {},
   "outputs": [],
   "source": [
    "def calculate_dominated_vertices(tree, S):\n",
    "    '''\n",
    "    helper function to calculate the set of dominated vertices for a tree \n",
    "     -> minimize repeated logic in other functions\n",
    "    INPUTS: Sage tree (Graph) and set of vertices being checked (list)\n",
    "    RETURNS: set of dominated vertices\n",
    "    '''\n",
    "\n",
    "    dominated = set() # empty set to track dominated vertices\n",
    "    \n",
    "    for v in S: # for a vertex in the set S\n",
    "        dominated.update(tree.neighbors(v))  # add neighbors of v\n",
    "        dominated.add(v)  # add the vertex itself\n",
    "    \n",
    "    return dominated # return the set of dominated vertices"
   ]
  },
  {
   "cell_type": "code",
   "execution_count": 6,
   "id": "9a2eda91-59a9-4f7f-a1a5-c2e7f50dfa47",
   "metadata": {},
   "outputs": [],
   "source": [
    "def visualize_partial_domination(tree, S):\n",
    "    '''\n",
    "    function to visualize tree with highlighted vertices accoridng to domination \n",
    "     -> green for dominated, red for undominated\n",
    "    INPUTS: Sage tree (Graph) and set of vertices in dominating set (found through check_partial_domination)\n",
    "    '''\n",
    "    \n",
    "    #tree.show(layout='tree') # uncomment to see the original tree uncolored\n",
    "\n",
    "    dominated = calculate_dominated_vertices(tree, S)  # use helper function\n",
    "\n",
    "    # group vertices by color\n",
    "    green_vertices = list(dominated)\n",
    "    red_vertices = [v for v in tree.vertices() if v not in dominated]\n",
    "\n",
    "    # create vertex_colors dictionary for Sage\n",
    "    vertex_colors = {'green': green_vertices, 'red': red_vertices}\n",
    "\n",
    "    # visualize the graph\n",
    "    tree.show(vertex_colors=vertex_colors)\n",
    "        #note: we can add \"layout='tree'\" as a tree.show() parameter to force a tree layout\n"
   ]
  },
  {
   "cell_type": "markdown",
   "id": "37d65de1-cd59-4e41-9838-336ae1bf8764",
   "metadata": {
    "jp-MarkdownHeadingCollapsed": true
   },
   "source": [
    "## Incrementally Increasing Subset Sizes"
   ]
  },
  {
   "cell_type": "markdown",
   "id": "767c4e82-4fc6-46e9-b68c-1f3d909216d8",
   "metadata": {},
   "source": [
    "Check for the smallest size set of partial domination by checking 1, 2, ... n size sets for partial domination. Return when 1/3 dominaton is reached for each set.\n",
    "\n",
    "This should be computationally more efficient than checking permutations. Thus, we check a worst case size 2^n. "
   ]
  },
  {
   "cell_type": "code",
   "execution_count": 7,
   "id": "5ebb252c-efe8-4421-b853-d91e7a6d617a",
   "metadata": {},
   "outputs": [],
   "source": [
    "def subset_partial_domination(tree, fraction=partial_domination_fraction):\n",
    "    \"\"\"\n",
    "    function to test vertex sets of various sizes to find fraction dominated set \n",
    "     -> we are using 1/3 as decleared above\n",
    "     -> we incrementally increase the subset size\n",
    "    INPUTS: Sage tree (Graph) and fraction of graph to be dominated (float)\n",
    "    RETURNS: list of smallest valid 1/3 dominating set \n",
    "    \"\"\"\n",
    "    vertices = tree.vertices()\n",
    "    required_dominated = int(fraction * len(vertices))  # minimum number of vertices to dominate\n",
    "\n",
    "    size_counts = {}  # dictionary to track set sizes\n",
    "    smallest_set = None  # track the smallest valid set\n",
    "    min_size = float('inf')  # start with an infinitely large size\n",
    "    valid_sets = []  # track valid sets of the smallest size\n",
    "\n",
    "\n",
    "    total_subsets = sum(math.comb(len(vertices), i) for i in range(1, len(vertices) + 1))\n",
    "    # print(\"Total subsets: \", total_subsets) # UNCOMMENT to print\n",
    "\n",
    "    # iterate over subsets starting from size 1 up to vertex length\n",
    "    for i in range(1, len(vertices) + 1):\n",
    "        for subset in combinations(vertices, i): # using combinations from itertools\n",
    "            dominated = calculate_dominated_vertices(tree, subset)  # use helper function\n",
    "            \n",
    "            # if this subset dominates at least 1/3 of the vertices, track it\n",
    "            if len(dominated) >= required_dominated:\n",
    "                set_size = len(subset) # get dominating set size\n",
    "\n",
    "                ''' UNCOMENT TO TRACK ALL SUBSET SIZES:\n",
    "                # update size count\n",
    "                if set_size in size_counts: # if size exists already, add 1\n",
    "                    size_counts[set_size]+= 1\n",
    "                else:\n",
    "                    size_counts[set_size]=1\n",
    "                \n",
    "\n",
    "                # update smallest set tracker if this one is smaller\n",
    "                if set_size < min_size:\n",
    "                    min_size = set_size\n",
    "                    smallest_set = list(subset) # store smallest set found\n",
    "                '''\n",
    "\n",
    "                # find the total number of smallest sets\n",
    "                if set_size < min_size:\n",
    "                    min_size = set_size\n",
    "                    valid_sets = [subset] # start again if a smaller set is found\n",
    "                elif set_size == min_size:\n",
    "                    valid_sets.append(subset) # add more of same size\n",
    "                    \n",
    "    ''' UNCOMENT TO TRACK ALL SUBSET SIZES:\n",
    "    # print set size distribution\n",
    "    print(\"\\nSet Size Distribution of Valid Partial Domination Sets:\")\n",
    "    for size in sorted(size_counts.keys()):\n",
    "        print(f\"Size {size}: {size_counts[size]} occurrences\") \n",
    "    '''\n",
    "\n",
    "    ''' UNCOMMENT TO PRINT: \n",
    "    print(f\"Smallest set size: {min_size}\")\n",
    "    print(f\"Occurances: {len(valid_sets)}\")\n",
    "    print(f\"\\nExample set: {valid_sets[0] if valid_sets else None} \\n\")\n",
    "    '''\n",
    "            \n",
    "    # return valid_sets[0] if valid_sets else None # return example of smallest set\n",
    "    return (valid_sets[0], len(valid_sets)) if valid_sets else (None, 0) # return udates to also show # occurances"
   ]
  },
  {
   "cell_type": "code",
   "execution_count": 8,
   "id": "dc65168f-10fa-436d-9c4d-4c5a942bb52e",
   "metadata": {},
   "outputs": [
    {
     "data": {
      "image/png": "[encoded data removed]",
      "text/plain": [
       "Graphics object consisting of 6 graphics primitives"
      ]
     },
     "metadata": {},
     "output_type": "display_data"
    }
   ],
   "source": [
    "# TEST 1 - check functions to find a 1/3-dominating set using permutations\n",
    "tree = next(TreeIterator(3))\n",
    "\n",
    "dominating_set, _ = subset_partial_domination(tree)\n",
    "\n",
    "# visualize tree \n",
    "visualize_partial_domination(tree, dominating_set)\n"
   ]
  },
  {
   "cell_type": "code",
   "execution_count": 9,
   "id": "e15805a0-9756-4fc3-bba3-8af810149dff",
   "metadata": {},
   "outputs": [
    {
     "data": {
      "image/png": "[encoded data removed]",
      "text/plain": [
       "Graphics object consisting of 16 graphics primitives"
      ]
     },
     "metadata": {},
     "output_type": "display_data"
    }
   ],
   "source": [
    "# TEST 2\n",
    "\n",
    "# generate a tree with 5 vertices\n",
    "tree = next(TreeIterator(8))\n",
    "\n",
    "# find a 1/3-dominating set\n",
    "dominating_set, _ = subset_partial_domination(tree, fraction=1/3)\n",
    "\n",
    "# visualize tree\n",
    "visualize_partial_domination(tree, dominating_set)"
   ]
  },
  {
   "cell_type": "code",
   "execution_count": 10,
   "id": "1252da59-0ab9-4b3a-ac10-cd45a97e5bf6",
   "metadata": {},
   "outputs": [
    {
     "data": {
      "image/png": "[encoded data removed]",
      "text/plain": [
       "Graphics object consisting of 10 graphics primitives"
      ]
     },
     "metadata": {},
     "output_type": "display_data"
    },
    {
     "data": {
      "image/png": "[encoded data removed]",
      "text/plain": [
       "Graphics object consisting of 10 graphics primitives"
      ]
     },
     "metadata": {},
     "output_type": "display_data"
    },
    {
     "data": {
      "image/png": "[encoded data removed]",
      "text/plain": [
       "Graphics object consisting of 10 graphics primitives"
      ]
     },
     "metadata": {},
     "output_type": "display_data"
    }
   ],
   "source": [
    "for i, T in enumerate(TreeIterator(5)):\n",
    "    # print(f\"TREE {i + 1}\")\n",
    "    #T.show() # uncomment to see orginal tree\n",
    "    \n",
    "    # find the 1/3-dominating set\n",
    "    dominating_set, _ = subset_partial_domination(T)\n",
    "\n",
    "    visualize_partial_domination(T, dominating_set)"
   ]
  },
  {
   "cell_type": "code",
   "execution_count": 11,
   "id": "81db1237-8e8f-4276-b2f5-6515282f8ec9",
   "metadata": {},
   "outputs": [],
   "source": [
    "for i, T in enumerate(TreeIterator(10)):\n",
    "    # print(f\"TREE {i + 1}\")\n",
    "    #T.show() # uncomment to see orginal tree\n",
    "    \n",
    "    # find the 1/3-dominating set\n",
    "    dominating_set = subset_partial_domination(T)\n",
    "    \n",
    "    #visualize_partial_domination(T, dominating_set)"
   ]
  },
  {
   "cell_type": "markdown",
   "id": "cd02e2eb-f969-41ab-921f-9c4293767290",
   "metadata": {},
   "source": [
    "## DataFrame\n",
    "Consider using SQLite instead of Excel for data storage?"
   ]
  },
  {
   "cell_type": "code",
   "execution_count": 12,
   "id": "0bbc9de9-c51b-421d-a953-4dedda1b5d3d",
   "metadata": {},
   "outputs": [],
   "source": [
    "def excel_saved__partial_domination(max_vertices, fraction1=partial_domination_fraction, fraction2=partial_domination_fraction2, save_to_excel=True):\n",
    "    \"\"\"\n",
    "    function to test the partial domination function over different size trees and save to an Excel file \n",
    "    INPUTS: max_vertices # trees vertices to collect data (1 to max), partial domination fraction (1/3), and boolean save_to_excel\n",
    "    RETURNS: list of smallest valid 1/3 dominating set\n",
    "    \n",
    "    \"\"\"\n",
    "    data = []  # store results here\n",
    "    trees_list = []  # store list of trees for visualizing\n",
    "    \n",
    "    for n in range(1, max_vertices + 1):  # starting from 1 vertex\n",
    "        \n",
    "        for tree in TreeIterator(n):\n",
    "            # append tree twice (because we have both 1/3 and 2/3 tracking, so it keeps data consistency\n",
    "            trees_list.append(tree)\n",
    "            trees_list.append(tree)\n",
    "            \n",
    "            # run for fraction 1: 1/3\n",
    "            result1, occurrences1 = subset_partial_domination(tree, fraction1) # function defined above\n",
    "            min_size1 = len(result1) if result1 else None\n",
    "            \n",
    "            '''\n",
    "            print(f\"Fraction: {fraction1}\")\n",
    "            print(f\"Number of Vertices: {n}\")            \n",
    "            print(f\"Smallest set size: {min_size1}\")\n",
    "            print(f\"Occurrences: {occurrences1}\")\n",
    "            print(f\"\\nExample set: {result1 if result1 else None} \\n\")\n",
    "            '''\n",
    "            \n",
    "            # store the relevant data\n",
    "            data.append({\n",
    "                \"Vertices\": n,\n",
    "                \"Partial Domination Fraction\": fraction1,\n",
    "                \"Smallest Set Size\": min_size1,\n",
    "                \"Occurrences\": occurrences1,\n",
    "                \"Example Set\": result1,\n",
    "                \"Tree\": tree.edges()\n",
    "            })\n",
    "\n",
    "            # run for fraction 2: 2/3\n",
    "            result2, occurrences2 = subset_partial_domination(tree, fraction2) # function defined above\n",
    "            min_size2 = len(result2) if result2 else None\n",
    "\n",
    "            '''\n",
    "            print(f\"Fraction: {fraction2}\")\n",
    "            print(f\"Number of Vertices: {n}\")            \n",
    "            print(f\"Smallest set size: {min_size2}\")\n",
    "            print(f\"Occurrences: {occurrences2}\")\n",
    "            print(f\"\\nExample set: {result2 if result2 else None} \\n\")\n",
    "            '''\n",
    "            \n",
    "            # store the relevant data\n",
    "            data.append({\n",
    "                \"Vertices\": n,\n",
    "                \"Partial Domination Fraction\": fraction2,\n",
    "                \"Smallest Set Size\": min_size2,\n",
    "                \"Occurrences\": occurrences2,\n",
    "                \"Example Set\": result2,\n",
    "                \"Tree\": tree.edges()\n",
    "            })\n",
    "    \n",
    "    # make a Pandas df\n",
    "    df = pd.DataFrame(data)\n",
    "    \n",
    "    # export to Excel\n",
    "    if save_to_excel:\n",
    "        filename = f\"partial_domination_results_{max_vertices}_vertices.xlsx\"\n",
    "        df.to_excel(filename, index=False)\n",
    "        print(f\"\\nData saved to {filename}\")\n",
    "\n",
    "    return df, trees_list # return df to return the dataframe"
   ]
  },
  {
   "cell_type": "code",
   "execution_count": null,
   "id": "5ed491b9-2bb0-47f1-9cd0-01b6f6b4c60e",
   "metadata": {},
   "outputs": [],
   "source": [
    "# analyze trees up to 14 vertices\n",
    "df, trees_list = excel_saved__partial_domination(max_vertices=14)"
   ]
  },
  {
   "cell_type": "code",
   "execution_count": null,
   "id": "822f1f60-e0dc-48e3-942c-a165bdfd5cd0",
   "metadata": {},
   "outputs": [],
   "source": [
    "df"
   ]
  },
  {
   "cell_type": "code",
   "execution_count": null,
   "id": "f142d5f2-bb59-49e1-a561-2e45003bb072",
   "metadata": {},
   "outputs": [],
   "source": [
    "def visualize_tree_from_excel(df, trees_list, row_index):\n",
    "    '''\n",
    "    function to visualize a specific tree with highlighted vertices accoridng to domination  from the Excel-stored DataFrame\n",
    "     -> green for dominated, red for undominated\n",
    "    INPUTS: df (created from excel), trees list created in excel function, row index from corresonding Excel row\n",
    "    -> note that DF and lists are 0-indexed, so if we are looking for an Excel row, make sure that you subtract 1 from the row for row_index\n",
    "    '''\n",
    "    \n",
    "    # retrieve tree object from the list using the row index\n",
    "    tree = trees_list[row_index]\n",
    "    \n",
    "    # retrieve example dominating set from the DF\n",
    "    S = df.iloc[row_index][\"Example Set\"]\n",
    "    \n",
    "    # ensure set is properly formatted\n",
    "    if pd.isna(S) or S is None:\n",
    "        print(\"No dominating set found for this tree.\")\n",
    "        return\n",
    "\n",
    "    # convert from DF stored format (list-like) to actual SageMath set\n",
    "    S = set(S) if isinstance(S, (list, tuple)) else {S}\n",
    "    \n",
    "    print(f\"Visualizing tree at index {row_index} with dominating set: {S}\")\n",
    "    \n",
    "    # call SageMath visualization function (defined above)\n",
    "    visualize_partial_domination(tree, S)"
   ]
  },
  {
   "cell_type": "code",
   "execution_count": null,
   "id": "55b74643-3a3d-4383-b727-dcfa1bea7a8b",
   "metadata": {},
   "outputs": [],
   "source": [
    "# Visualize from Excel test\n",
    "\n",
    "visualize_tree_from_excel(df, trees_list, row_index=5)  # row index is 5, so this is row 6 of Excel"
   ]
  },
  {
   "cell_type": "markdown",
   "id": "ae23ad6c-a9df-4014-a6b0-fa9f163a307a",
   "metadata": {},
   "source": [
    "## Store the variables"
   ]
  },
  {
   "cell_type": "code",
   "execution_count": null,
   "id": "d712f5a5-9796-489a-a27c-29e0a44d1b81",
   "metadata": {},
   "outputs": [],
   "source": [
    "# store the DataFrame\n",
    "%store df\n",
    "# %store -r df"
   ]
  },
  {
   "cell_type": "code",
   "execution_count": null,
   "id": "9e0095ec-1d36-41e6-8b81-b230ada5a78a",
   "metadata": {},
   "outputs": [],
   "source": [
    "# store the trees list\n",
    "%store trees_list\n",
    "# %store -r trees_list"
   ]
  },
  {
   "cell_type": "code",
   "execution_count": null,
   "id": "3636ec3e-c39f-49c1-bc73-865121d9dd83",
   "metadata": {},
   "outputs": [],
   "source": []
  }
 ],
 "metadata": {
  "kernelspec": {
   "display_name": "SageMath 10.5",
   "language": "sage",
   "name": "sagemath-10.5"
  },
  "language_info": {
   "codemirror_mode": {
    "name": "ipython",
    "version": 3
   },
   "file_extension": ".py",
   "mimetype": "text/x-python",
   "name": "python",
   "nbconvert_exporter": "python",
   "pygments_lexer": "ipython3",
   "version": "3.12.5"
  }
 },
 "nbformat": 4,
 "nbformat_minor": 5
}
