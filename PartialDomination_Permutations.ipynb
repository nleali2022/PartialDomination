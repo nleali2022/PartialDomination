{
 "cells": [
  {
   "cell_type": "markdown",
   "id": "a65c7419-435d-4cd2-9441-c59a2eb91ae4",
   "metadata": {},
   "source": [
    "# Partial Domination\n",
    "This is the permutation code sectioned out t be saved in case we need to reference it"
   ]
  },
  {
   "cell_type": "code",
   "execution_count": 3,
   "id": "bed8bbda-b335-472a-b9da-5ac9036941b8",
   "metadata": {},
   "outputs": [],
   "source": [
    "# imports\n",
    "\n",
    "from sage.graphs.graph import Graph # display graphs\n",
    "\n",
    "from itertools import permutations # get permutations\n",
    "from itertools import combinations # get power set\n",
    "\n",
    "from sage.graphs.trees import TreeIterator # create trees iteratively\n",
    "\n",
    "import math # for factorial function\n",
    "\n",
    "import pandas as pd # data analysis"
   ]
  },
  {
   "cell_type": "code",
   "execution_count": 4,
   "id": "45e33db9-3e20-486b-bb03-32f032197b25",
   "metadata": {},
   "outputs": [],
   "source": [
    "# fraction of graph we expect to dominate\n",
    "\n",
    "partial_domination_fraction = 1/3\n",
    "partial_domination_fraction2 = 2/3"
   ]
  },
  {
   "cell_type": "markdown",
   "id": "603a1ece-1c01-4796-becb-7366cf8882b7",
   "metadata": {
    "jp-MarkdownHeadingCollapsed": true
   },
   "source": [
    "## Helper Functions"
   ]
  },
  {
   "cell_type": "code",
   "execution_count": 5,
   "id": "ec156a6a-3eef-40c6-8a7c-9d3524c2c2f4",
   "metadata": {},
   "outputs": [],
   "source": [
    "def calculate_dominated_vertices(tree, S):\n",
    "    '''\n",
    "    helper function to calculate the set of dominated vertices for a tree \n",
    "     -> minimize repeated logic in other functions\n",
    "    INPUTS: Sage tree (Graph) and set of vertices being checked (list)\n",
    "    RETURNS: set of dominated vertices\n",
    "    '''\n",
    "\n",
    "    dominated = set() # empty set to track dominated vertices\n",
    "    \n",
    "    for v in S: # for a vertex in the set S\n",
    "        dominated.update(tree.neighbors(v))  # add neighbors of v\n",
    "        dominated.add(v)  # add the vertex itself\n",
    "    \n",
    "    return dominated # return the set of dominated vertices"
   ]
  },
  {
   "cell_type": "code",
   "execution_count": 6,
   "id": "9a2eda91-59a9-4f7f-a1a5-c2e7f50dfa47",
   "metadata": {},
   "outputs": [],
   "source": [
    "def visualize_partial_domination(tree, S):\n",
    "    '''\n",
    "    function to visualize tree with highlighted vertices accoridng to domination \n",
    "     -> green for dominated, red for undominated\n",
    "    INPUTS: Sage tree (Graph) and set of vertices in dominating set (found through check_partial_domination)\n",
    "    '''\n",
    "    \n",
    "    #tree.show(layout='tree') # uncomment to see the original tree uncolored\n",
    "\n",
    "    dominated = calculate_dominated_vertices(tree, S)  # use helper function\n",
    "\n",
    "    # group vertices by color\n",
    "    green_vertices = list(dominated)\n",
    "    red_vertices = [v for v in tree.vertices() if v not in dominated]\n",
    "\n",
    "    # create vertex_colors dictionary for Sage\n",
    "    vertex_colors = {'green': green_vertices, 'red': red_vertices}\n",
    "\n",
    "    # visualize the graph\n",
    "    tree.show(vertex_colors=vertex_colors)\n",
    "        #note: we can add \"layout='tree'\" as a tree.show() parameter to force a tree layout\n"
   ]
  },
  {
   "cell_type": "markdown",
   "id": "d7f071cf-74c9-42b3-a83e-d3d60e0e418e",
   "metadata": {},
   "source": [
    "## Via Permutations"
   ]
  },
  {
   "cell_type": "markdown",
   "id": "75fe2df9-d477-4dd1-a93f-5fb35c82b349",
   "metadata": {},
   "source": [
    "Check partial domination by considering permutations of the graph vertices. We iterate over each ermutation and check for 1/3 domination. When we reach this point, we return. \n",
    "\n",
    "Note that this is not computationally efficicent because we consider a significant number of \"irrelevant\" numbers in our sets. Thus, we have a worst case of n! "
   ]
  },
  {
   "cell_type": "code",
   "execution_count": null,
   "id": "98beefcc-67fc-4ee5-9039-a256a0ea6ff4",
   "metadata": {},
   "outputs": [],
   "source": [
    "# updated\n",
    "def permutation_partial_domination(tree, fraction=partial_domination_fraction):\n",
    "    '''\n",
    "    function to test vertex permutations to find fraction dominated set \n",
    "     -> we are using 1/3 as decleared above\n",
    "    INPUTS: Sage tree (Graph) and fraction of graph to be dominated (float)\n",
    "    RETURNS: list of smallest valid 1/3 dominating set\n",
    "    '''\n",
    "\n",
    "    # for determining partial domination\n",
    "    vertices = tree.vertices()\n",
    "    required_dominated = fraction * len(vertices)  # minimum number of vertices to be dominated\n",
    "\n",
    "    # for tracking partial domination info\n",
    "    size_counts = {}  # dictionary to track set sizes\n",
    "    smallest_set = None  # track the smallest valid set\n",
    "    min_size = float('inf')  # start with an infinitely large size\n",
    "\n",
    "    \n",
    "    # iterate over all permutations of the vertices\n",
    "    for perm in permutations(vertices): # using permutations from itertools\n",
    "        current_set = []  # store the current dominating set as we test\n",
    "        \n",
    "        for v in perm:\n",
    "            current_set.append(v)  # add vertex to the dominating set\n",
    "            dominated = calculate_dominated_vertices(tree, current_set)  # use helper function\n",
    "            \n",
    "            # stop if 1/3 domination is achieved\n",
    "            if len(dominated) >= required_dominated:\n",
    "                set_size = len(current_set)  # get size of the dominating set\n",
    "                \n",
    "                # update size count\n",
    "                if set_size in size_counts: # if size exists already, add 1\n",
    "                    size_counts[set_size] += 1\n",
    "                else:\n",
    "                    size_counts[set_size] = 1\n",
    "                \n",
    "                # update the smallest set if this one is smaller\n",
    "                if set_size < min_size:\n",
    "                    min_size = set_size\n",
    "                    smallest_set = list(current_set)  # store the best set found\n",
    "                \n",
    "                break  # move to the next permutation\n",
    "\n",
    "    # print size distribution\n",
    "    print(\"Total permutations:\", math.factorial(len(vertices)))\n",
    "    print(\"\\nSize Distribution of Valid Partial Domination Sets:\")\n",
    "    for size in sorted(size_counts.keys()):\n",
    "        print(f\"Size {size}: {size_counts[size]} occurrences\")\n",
    "\n",
    "    return smallest_set  # return the smallest valid set found\n"
   ]
  },
  {
   "cell_type": "markdown",
   "id": "8721f0c4-49c6-45a0-be85-1f4c6e40f3dd",
   "metadata": {},
   "source": [
    "**Add logic to find the smallest size set from the permutations**\n",
    "\n",
    "Currently, we are only checking the first permutation for each graph but not considering each permutation to find the smallest. This can likely be done via lists to hold the sizes that we add the current set to, rather than returning it. Then add logic for the return to find the minimum size set."
   ]
  },
  {
   "cell_type": "code",
   "execution_count": null,
   "id": "b41bcb13-fb99-4120-9f47-cbabc3473480",
   "metadata": {},
   "outputs": [],
   "source": [
    "# TEST 1 - check functions to find a 1/3-dominating set using permutations\n",
    "tree = next(TreeIterator(3))\n",
    "\n",
    "dominating_set = permutation_partial_domination(tree)\n",
    "print(f\"\\nExample Smallest 1/3-dominating set: {dominating_set}\")\n",
    "\n",
    "# visualize tree \n",
    "visualize_partial_domination(tree, dominating_set)\n"
   ]
  },
  {
   "cell_type": "code",
   "execution_count": null,
   "id": "facb5886-acf3-47a5-b3a7-6ee2db8250f0",
   "metadata": {},
   "outputs": [],
   "source": [
    "# TEST 2\n",
    "\n",
    "# generate a tree with 5 vertices\n",
    "tree = next(TreeIterator(8))\n",
    "\n",
    "# Find a 1/3-dominating set\n",
    "dominating_set = permutation_partial_domination(tree, fraction=1/3)\n",
    "print(f\"\\nExample Smallest 1/3-dominating set: {dominating_set}\")\n",
    "\n",
    "# Visualize the result\n",
    "visualize_partial_domination(tree, dominating_set)"
   ]
  },
  {
   "cell_type": "code",
   "execution_count": null,
   "id": "61b3fe52-cd7b-4d66-aa7f-d481b81263a5",
   "metadata": {},
   "outputs": [],
   "source": [
    "for i, T in enumerate(TreeIterator(5)):\n",
    "    print(f\"TREE {i + 1}\")\n",
    "    #T.show() # uncomment to see orginal tree\n",
    "    \n",
    "    # find the 1/3-dominating set\n",
    "    dominating_set = permutation_partial_domination(T)\n",
    "    print(f\"Greedy 1/3-dominating set for Tree {i + 1}: {dominating_set}\")\n",
    "    \n",
    "    # show trees\n",
    "    visualize_partial_domination(T, dominating_set)"
   ]
  },
  {
   "cell_type": "code",
   "execution_count": null,
   "id": "a314af9a-69d3-46f2-bcf8-582ba2885972",
   "metadata": {},
   "outputs": [],
   "source": [
    "for i, T in enumerate(TreeIterator(10)):\n",
    "    print(f\"TREE {i + 1}\")\n",
    "    #T.show() # uncomment to see orginal tree\n",
    "    \n",
    "    # find the 1/3-dominating set\n",
    "    dominating_set = permutation_partial_domination(T)\n",
    "    print(f\"Greedy 1/3-dominating set for Tree {i + 1}: {dominating_set}\")\n",
    "    \n",
    "    # show trees\n",
    "    #visualize_partial_domination(T, dominating_set)"
   ]
  },
  {
   "cell_type": "markdown",
   "id": "767c4e82-4fc6-46e9-b68c-1f3d909216d8",
   "metadata": {},
   "source": [
    " "
   ]
  }
 ],
 "metadata": {
  "kernelspec": {
   "display_name": "SageMath 10.5",
   "language": "sage",
   "name": "sagemath-10.5"
  },
  "language_info": {
   "codemirror_mode": {
    "name": "ipython",
    "version": 3
   },
   "file_extension": ".py",
   "mimetype": "text/x-python",
   "name": "python",
   "nbconvert_exporter": "python",
   "pygments_lexer": "ipython3",
   "version": "3.12.5"
  }
 },
 "nbformat": 4,
 "nbformat_minor": 5
}
